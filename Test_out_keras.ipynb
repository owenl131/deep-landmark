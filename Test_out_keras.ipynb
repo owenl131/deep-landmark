{
 "cells": [
  {
   "cell_type": "markdown",
   "metadata": {},
   "source": [
    "### Deep Convolutional Network Cascade for Facial Point Detection\n",
    "with significant modifications for simplification"
   ]
  },
  {
   "cell_type": "code",
   "execution_count": null,
   "metadata": {},
   "outputs": [],
   "source": [
    "from keras import backend as K\n",
    "from keras.layers import Convolution2D, MaxPooling2D\n",
    "from keras.layers import Convolution3D, MaxPooling3D\n",
    "from keras.layers import Input, Dense, Activation, Flatten\n",
    "from keras.layers import Reshape, Permute, Lambda\n",
    "from keras.models import Model\n",
    "import numpy as np"
   ]
  },
  {
   "cell_type": "code",
   "execution_count": null,
   "metadata": {
    "collapsed": true
   },
   "outputs": [],
   "source": [
    "%matplotlib inline\n",
    "import cv2\n",
    "import matplotlib.pyplot as plt\n",
    "import numpy as np\n",
    "from PIL import Image"
   ]
  },
  {
   "cell_type": "code",
   "execution_count": null,
   "metadata": {
    "collapsed": true
   },
   "outputs": [],
   "source": [
    "# 0 for F1\n",
    "# 1 for EN1\n",
    "# 2 for NM1\n",
    "# 3 for all\n",
    "to_train = 0"
   ]
  },
  {
   "cell_type": "code",
   "execution_count": null,
   "metadata": {
    "collapsed": true
   },
   "outputs": [],
   "source": [
    "def show_landmark(face, landmark):\n",
    "    face_copied = face.copy().astype(np.uint8)\n",
    "    for l in landmark:\n",
    "        x = l[0]\n",
    "        y = l[1]\n",
    "        xx = int(face.shape[0]*x)\n",
    "        yy = int(face.shape[1]*y)\n",
    "        cv2.circle(face_copied, (xx, yy), 2, (255,255,255), -1)\n",
    "    return face_copied"
   ]
  },
  {
   "cell_type": "code",
   "execution_count": null,
   "metadata": {
    "collapsed": true
   },
   "outputs": [],
   "source": [
    "def break_to_units(lyr, units_y, units_x):\n",
    "    # break a 2D array into NxN units\n",
    "    shape = (None, int(lyr.shape[1]), int(lyr.shape[2]), int(lyr.shape[3]))\n",
    "    lyr = Reshape(\n",
    "        (units_y, shape[1]//units_y, shape[2], shape[3])\n",
    "    )(lyr)\n",
    "    lyr = Permute((1, 3, 2, 4))(lyr)\n",
    "    lyr = Reshape(\n",
    "        (units_x*units_y, shape[2]//units_x, shape[1]//units_y, shape[3])\n",
    "    )(lyr)\n",
    "    lyr = Permute((1, 3, 2, 4))(lyr)\n",
    "    return lyr\n",
    "\n",
    "def recombine_units(lyr, units_y, units_x):\n",
    "    shape = (None, None, \n",
    "             int(lyr.shape[2]), int(lyr.shape[3]), int(lyr.shape[4]))\n",
    "    lyr = Permute((2, 1, 3, 4))(lyr)\n",
    "    lyr = Reshape((shape[2], units_y, shape[3]*units_x, shape[4]))(lyr)\n",
    "    lyr = Permute((2, 1, 3, 4))(lyr)\n",
    "    lyr = Reshape((shape[2]*units_y, shape[3]*units_x, shape[4]))(lyr)\n",
    "    return lyr\n",
    "\n",
    "def abs_layer(lyr):\n",
    "    lyr = Lambda(lambda x: K.abs(x))(lyr)\n",
    "    return lyr"
   ]
  },
  {
   "cell_type": "code",
   "execution_count": null,
   "metadata": {
    "collapsed": true
   },
   "outputs": [],
   "source": [
    "def get_C(lyr, kernel_len, number, p, q):\n",
    "    lyr = break_to_units(lyr, p, q)\n",
    "    lyr = Convolution3D(\n",
    "        filters=number, \n",
    "        kernel_size=(p*q,kernel_len,kernel_len),\n",
    "        strides=(1,1,1),\n",
    "        padding='same'\n",
    "    )(lyr)\n",
    "    lyr = recombine_units(lyr, p, q)\n",
    "    lyr = Activation('tanh')(lyr)\n",
    "    return lyr\n",
    "\n",
    "def get_CR(lyr, kernel_len, number, p, q):\n",
    "    lyr = get_C(lyr, kernel_len, number, p, q)\n",
    "    lyr = abs_layer(lyr)\n",
    "    return lyr\n",
    "\n",
    "def get_MP(lyr, side_len, p, q):\n",
    "    lyr = MaxPooling2D(\n",
    "        pool_size=(side_len, side_len)\n",
    "    )(lyr)\n",
    "    #print('mp', lyr.shape)\n",
    "    #lyr = break_to_units(lyr, p, q)\n",
    "    #print('mp', lyr.shape)\n",
    "    #lyr = Convolution3D(\n",
    "    #    filters=1,\n",
    "    #    kernel_size=(1,1,1),\n",
    "    #    strides=(p*q,1,1)\n",
    "    #)(lyr)\n",
    "    #print('mp', lyr.shape)\n",
    "    #lyr = recombine_units(lyr, p, q)\n",
    "    return lyr\n",
    "\n",
    "def get_FC(lyr, size):\n",
    "    lyr = Dense(size)(lyr)\n",
    "    lyr = Activation('tanh')(lyr)\n",
    "    return lyr"
   ]
  },
  {
   "cell_type": "code",
   "execution_count": null,
   "metadata": {},
   "outputs": [],
   "source": [
    "def get_s0():\n",
    "    inp = Input((96, 96, 1))\n",
    "    lyr = get_CR(inp, 4, 20, 2, 2)\n",
    "    lyr = get_MP(lyr, 2, 2, 2)\n",
    "    lyr = get_CR(lyr, 3, 20, 2, 2)\n",
    "    lyr = get_MP(lyr, 2, 2, 2)\n",
    "    lyr = get_CR(lyr, 3, 60, 3, 3)\n",
    "    lyr = get_MP(lyr, 2, 3, 3)\n",
    "    lyr = get_CR(lyr, 2, 80, 2, 2)\n",
    "    lyr = Flatten()(lyr)\n",
    "    lyr = get_FC(lyr, 120)\n",
    "    lyr = get_FC(lyr, 10)\n",
    "    model = Model(inp, lyr)\n",
    "    return model\n",
    "\n",
    "def get_s1():\n",
    "    inp = Input((80, 96, 1))\n",
    "    lyr = get_CR(inp, 4, 20, 1, 1)\n",
    "    lyr = get_MP(lyr, 2, 1, 1)\n",
    "    lyr = get_CR(lyr, 3, 20, 2, 2)\n",
    "    lyr = get_MP(lyr, 2, 2, 2)\n",
    "    lyr = get_CR(lyr, 3, 60, 2, 3)\n",
    "    lyr = get_MP(lyr, 2, 2, 3)\n",
    "    lyr = get_CR(lyr, 2, 80, 1, 2)\n",
    "    lyr = Flatten()(lyr)\n",
    "    lyr = get_FC(lyr, 100)\n",
    "    lyr = get_FC(lyr, 6)\n",
    "    model = Model(inp, lyr)\n",
    "    return model\n",
    "\n",
    "# to check that models can be created\n",
    "get_s0()\n",
    "get_s1()"
   ]
  },
  {
   "cell_type": "code",
   "execution_count": null,
   "metadata": {},
   "outputs": [],
   "source": [
    "train_set_info = 'dataset/trainImageList.txt'\n",
    "trainfile = open(train_set_info, 'r')\n",
    "x = []\n",
    "y = []\n",
    "\n",
    "CASC_PATH = 'haarcascade_frontalface_default.xml'\n",
    "faceCascade = cv2.CascadeClassifier(CASC_PATH)\n",
    "\n",
    "for line in trainfile:\n",
    "    try:\n",
    "        info = line.rstrip().split(' ')\n",
    "        im = cv2.imread('dataset/' + info[0].replace('\\\\', '/'))\n",
    "        xy = np.array(info[1:5], dtype=np.int)\n",
    "        faces = faceCascade.detectMultiScale(im)\n",
    "        #assert(len(faces) == 1)\n",
    "        x1, y1, w1, h1 = faces[0]\n",
    "        xy[2] = y1\n",
    "        xy[3] = y1 + h1\n",
    "        xy[0] = x1\n",
    "        xy[1] = x1 + w1\n",
    "        trimmed = im[xy[2]:xy[3], xy[0]:xy[1]]\n",
    "        trimmed = cv2.resize(trimmed, (96, 96))\n",
    "        trimmed = cv2.cvtColor(trimmed, cv2.COLOR_BGR2GRAY)\n",
    "        plt.imshow(trimmed, cmap='gray')\n",
    "        trimmed = np.reshape(trimmed, trimmed.shape + (1,))\n",
    "        data = np.array(info[5:], dtype=np.float32)\n",
    "        data = np.reshape(data, (5, 2))\n",
    "        for i in range(data.shape[0]):\n",
    "            data[i][0] = (data[i][0] - xy[0])/(xy[1] - xy[0])\n",
    "            data[i][1] = (data[i][1] - xy[2])/(xy[3] - xy[2])\n",
    "        data = np.reshape(data, (10,))\n",
    "        assert(np.min(data) >= 0 and np.max(data) <= 1)\n",
    "        x.append(trimmed)\n",
    "        y.append(data)\n",
    "    except Exception:\n",
    "        pass\n",
    "\n"
   ]
  },
  {
   "cell_type": "code",
   "execution_count": null,
   "metadata": {},
   "outputs": [],
   "source": [
    "if to_train == 0 or to_train == 3:\n",
    "    xx = np.array(x, dtype=np.float32)\n",
    "    yy = np.array(y, dtype=np.float32)\n",
    "    model = get_s0()\n",
    "    model.summary()\n",
    "    model.compile('sgd', 'mse')\n",
    "    model.fit(xx, yy, epochs=20)\n",
    "    model.save_weights('saved_f1.h5')"
   ]
  },
  {
   "cell_type": "code",
   "execution_count": null,
   "metadata": {
    "collapsed": true
   },
   "outputs": [],
   "source": [
    "if to_train == 1 or to_train == 3:\n",
    "    xx = []\n",
    "    yy = []\n",
    "    for i in range(len(x)):\n",
    "        xx.append(x[i][:80, :])\n",
    "        yy.append(y[i][:6])\n",
    "    xx = np.array(xx, dtype=np.float32)\n",
    "    yy = np.array(yy, dtype=np.float32)\n",
    "    model = get_s1()\n",
    "    model.summary()\n",
    "    model.compile('sgd', 'mse')\n",
    "    model.fit(xx, yy, epochs=10)\n",
    "    model.save_weights('saved_en1.h5')"
   ]
  },
  {
   "cell_type": "code",
   "execution_count": null,
   "metadata": {
    "collapsed": true
   },
   "outputs": [],
   "source": [
    "if to_train == 2 or to_train == 3:\n",
    "    xx = []\n",
    "    yy = []\n",
    "    for i in range(len(x)):\n",
    "        xx.append(x[i][-80:, :])\n",
    "        yy.append(y[i][-6:])\n",
    "    xx = np.array(xx, dtype=np.float32)\n",
    "    yy = np.array(yy, dtype=np.float32)\n",
    "    model = get_s1()\n",
    "    model.summary()\n",
    "    model.compile('sgd', 'mse')\n",
    "    model.fit(xx, yy, epochs=10)\n",
    "    model.save_weights('saved_nm1.h5')"
   ]
  }
 ],
 "metadata": {
  "kernelspec": {
   "display_name": "VTF3",
   "language": "python",
   "name": "vtf3"
  },
  "language_info": {
   "codemirror_mode": {
    "name": "ipython",
    "version": 2
   },
   "file_extension": ".py",
   "mimetype": "text/x-python",
   "name": "python",
   "nbconvert_exporter": "python",
   "pygments_lexer": "ipython2",
   "version": "2.7.12"
  }
 },
 "nbformat": 4,
 "nbformat_minor": 2
}

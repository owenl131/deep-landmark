{
 "cells": [
  {
   "cell_type": "markdown",
   "metadata": {},
   "source": [
    "### Deep Convolutional Network Cascade for Facial Point Detection\n",
    "with significant modifications for simplification"
   ]
  },
  {
   "cell_type": "code",
   "execution_count": 1,
   "metadata": {},
   "outputs": [
    {
     "name": "stderr",
     "output_type": "stream",
     "text": [
      "Using TensorFlow backend.\n"
     ]
    }
   ],
   "source": [
    "from keras import backend as K\n",
    "from keras.layers import Convolution2D, MaxPooling2D\n",
    "from keras.layers import Convolution3D, MaxPooling3D\n",
    "from keras.layers import Input, Dense, Activation, Flatten\n",
    "from keras.layers import Reshape, Permute, Lambda\n",
    "from keras.models import Model\n",
    "import numpy as np"
   ]
  },
  {
   "cell_type": "code",
   "execution_count": 2,
   "metadata": {
    "collapsed": true
   },
   "outputs": [],
   "source": [
    "#%matplotlib inline\n",
    "import cv2\n",
    "import matplotlib.pyplot as plt\n",
    "import numpy as np\n",
    "from PIL import Image"
   ]
  },
  {
   "cell_type": "code",
   "execution_count": null,
   "metadata": {
    "collapsed": true
   },
   "outputs": [],
   "source": [
    "# 0 for F1\n",
    "# 1 for EN1\n",
    "# 2 for NM1\n",
    "# 3 for all\n",
    "to_train = 1"
   ]
  },
  {
   "cell_type": "code",
   "execution_count": 4,
   "metadata": {
    "collapsed": true
   },
   "outputs": [],
   "source": [
    "def show_landmark(face, landmark):\n",
    "    face_copied = face.copy().astype(np.uint8)\n",
    "    for l in landmark:\n",
    "        x = l[0]\n",
    "        y = l[1]\n",
    "        xx = int(face.shape[0]*x)\n",
    "        yy = int(face.shape[1]*y)\n",
    "        cv2.circle(face_copied, (xx, yy), 2, (255,255,255), -1)\n",
    "    return face_copied"
   ]
  },
  {
   "cell_type": "code",
   "execution_count": 5,
   "metadata": {
    "collapsed": true
   },
   "outputs": [],
   "source": [
    "def break_to_units(lyr, units_y, units_x):\n",
    "    # break a 2D array into NxN units\n",
    "    shape = (None, int(lyr.shape[1]), int(lyr.shape[2]), int(lyr.shape[3]))\n",
    "    lyr = Reshape(\n",
    "        (units_y, shape[1]//units_y, shape[2], shape[3])\n",
    "    )(lyr)\n",
    "    lyr = Permute((1, 3, 2, 4))(lyr)\n",
    "    lyr = Reshape(\n",
    "        (units_x*units_y, shape[2]//units_x, shape[1]//units_y, shape[3])\n",
    "    )(lyr)\n",
    "    lyr = Permute((1, 3, 2, 4))(lyr)\n",
    "    return lyr\n",
    "\n",
    "def recombine_units(lyr, units_y, units_x):\n",
    "    shape = (None, None, \n",
    "             int(lyr.shape[2]), int(lyr.shape[3]), int(lyr.shape[4]))\n",
    "    lyr = Permute((2, 1, 3, 4))(lyr)\n",
    "    lyr = Reshape((shape[2], units_y, shape[3]*units_x, shape[4]))(lyr)\n",
    "    lyr = Permute((2, 1, 3, 4))(lyr)\n",
    "    lyr = Reshape((shape[2]*units_y, shape[3]*units_x, shape[4]))(lyr)\n",
    "    return lyr\n",
    "\n",
    "def abs_layer(lyr):\n",
    "    lyr = Lambda(lambda x: K.abs(x))(lyr)\n",
    "    return lyr"
   ]
  },
  {
   "cell_type": "code",
   "execution_count": 6,
   "metadata": {
    "collapsed": true
   },
   "outputs": [],
   "source": [
    "def get_C(lyr, kernel_len, number, p, q):\n",
    "    lyr = break_to_units(lyr, p, q)\n",
    "    lyr = Convolution3D(\n",
    "        filters=number, \n",
    "        kernel_size=(p*q,kernel_len,kernel_len),\n",
    "        strides=(1,1,1),\n",
    "        padding='same'\n",
    "    )(lyr)\n",
    "    lyr = recombine_units(lyr, p, q)\n",
    "    lyr = Activation('tanh')(lyr)\n",
    "    return lyr\n",
    "\n",
    "def get_CR(lyr, kernel_len, number, p, q):\n",
    "    lyr = get_C(lyr, kernel_len, number, p, q)\n",
    "    lyr = abs_layer(lyr)\n",
    "    return lyr\n",
    "\n",
    "def get_MP(lyr, side_len, p, q):\n",
    "    lyr = MaxPooling2D(\n",
    "        pool_size=(side_len, side_len)\n",
    "    )(lyr)\n",
    "    #print('mp', lyr.shape)\n",
    "    #lyr = break_to_units(lyr, p, q)\n",
    "    #print('mp', lyr.shape)\n",
    "    #lyr = Convolution3D(\n",
    "    #    filters=1,\n",
    "    #    kernel_size=(1,1,1),\n",
    "    #    strides=(p*q,1,1)\n",
    "    #)(lyr)\n",
    "    #print('mp', lyr.shape)\n",
    "    #lyr = recombine_units(lyr, p, q)\n",
    "    return lyr\n",
    "\n",
    "def get_FC(lyr, size):\n",
    "    lyr = Dense(size)(lyr)\n",
    "    lyr = Activation('tanh')(lyr)\n",
    "    return lyr"
   ]
  },
  {
   "cell_type": "code",
   "execution_count": 9,
   "metadata": {},
   "outputs": [
    {
     "data": {
      "text/plain": [
       "<keras.engine.training.Model at 0x7f0bef1e08d0>"
      ]
     },
     "execution_count": 9,
     "metadata": {},
     "output_type": "execute_result"
    }
   ],
   "source": [
    "def get_s0():\n",
    "    inp = Input((48, 48, 1))\n",
    "    lyr = get_CR(inp, 4, 20, 2, 2)\n",
    "    lyr = get_MP(lyr, 2, 2, 2)\n",
    "    lyr = get_CR(lyr, 3, 20, 2, 2)\n",
    "    lyr = get_MP(lyr, 2, 2, 2)\n",
    "    lyr = get_CR(lyr, 3, 60, 3, 3)\n",
    "    lyr = get_MP(lyr, 2, 3, 3)\n",
    "    lyr = get_CR(lyr, 2, 80, 2, 2)\n",
    "    lyr = Flatten()(lyr)\n",
    "    lyr = get_FC(lyr, 120)\n",
    "    lyr = get_FC(lyr, 10)\n",
    "    model = Model(inp, lyr)\n",
    "    return model\n",
    "\n",
    "def get_s1():\n",
    "    inp = Input((40, 48, 1))\n",
    "    lyr = get_CR(inp, 4, 20, 1, 1)\n",
    "    lyr = get_MP(lyr, 2, 1, 1)\n",
    "    lyr = get_CR(lyr, 3, 20, 2, 2)\n",
    "    lyr = get_MP(lyr, 2, 2, 2)\n",
    "    lyr = get_CR(lyr, 3, 60, 2, 3)\n",
    "    lyr = get_MP(lyr, 2, 2, 3)\n",
    "    lyr = get_CR(lyr, 2, 80, 1, 2)\n",
    "    lyr = Flatten()(lyr)\n",
    "    lyr = get_FC(lyr, 100)\n",
    "    lyr = get_FC(lyr, 6)\n",
    "    model = Model(inp, lyr)\n",
    "    return model\n",
    "\n",
    "# to check that models can be created\n",
    "get_s0()\n",
    "get_s1()"
   ]
  },
  {
   "cell_type": "code",
   "execution_count": 10,
   "metadata": {
    "collapsed": true
   },
   "outputs": [],
   "source": [
    "train_set_info = 'dataset/trainImageList.txt'\n",
    "trainfile = open(train_set_info, 'r')\n",
    "x = []\n",
    "y = []\n",
    "\n",
    "for line in trainfile:\n",
    "    info = line.rstrip().split(' ')\n",
    "    im = cv2.imread('dataset/' + info[0].replace('\\\\', '/'))\n",
    "    xy = np.array(info[1:5], dtype=np.int)\n",
    "    trimmed = im[xy[2]:xy[3], xy[0]:xy[1]]\n",
    "    trimmed = cv2.resize(trimmed, (48, 48))\n",
    "    trimmed = cv2.cvtColor(trimmed, cv2.COLOR_BGR2GRAY)\n",
    "    trimmed = np.reshape(trimmed, trimmed.shape + (1,))\n",
    "    data = np.array(info[5:], dtype=np.float32)\n",
    "    data = np.reshape(data, (5, 2))\n",
    "    for i in range(data.shape[0]):\n",
    "        data[i][0] = (data[i][0] - xy[0])/(xy[1] - xy[0])\n",
    "        data[i][1] = (data[i][1] - xy[2])/(xy[3] - xy[2])\n",
    "    data = np.reshape(data, (10,))\n",
    "    x.append(trimmed)\n",
    "    y.append(data)\n",
    "\n"
   ]
  },
  {
   "cell_type": "code",
   "execution_count": null,
   "metadata": {},
   "outputs": [
    {
     "name": "stdout",
     "output_type": "stream",
     "text": [
      "_________________________________________________________________\n",
      "Layer (type)                 Output Shape              Param #   \n",
      "=================================================================\n",
      "input_8 (InputLayer)         (None, 48, 48, 1)         0         \n",
      "_________________________________________________________________\n",
      "reshape_91 (Reshape)         (None, 2, 24, 48, 1)      0         \n",
      "_________________________________________________________________\n",
      "permute_89 (Permute)         (None, 2, 48, 24, 1)      0         \n",
      "_________________________________________________________________\n",
      "reshape_92 (Reshape)         (None, 4, 24, 24, 1)      0         \n",
      "_________________________________________________________________\n",
      "permute_90 (Permute)         (None, 4, 24, 24, 1)      0         \n",
      "_________________________________________________________________\n",
      "conv3d_23 (Conv3D)           (None, 4, 24, 24, 20)     1300      \n",
      "_________________________________________________________________\n",
      "permute_91 (Permute)         (None, 24, 4, 24, 20)     0         \n",
      "_________________________________________________________________\n",
      "reshape_93 (Reshape)         (None, 24, 2, 48, 20)     0         \n",
      "_________________________________________________________________\n",
      "permute_92 (Permute)         (None, 2, 24, 48, 20)     0         \n",
      "_________________________________________________________________\n",
      "reshape_94 (Reshape)         (None, 48, 48, 20)        0         \n",
      "_________________________________________________________________\n",
      "activation_33 (Activation)   (None, 48, 48, 20)        0         \n",
      "_________________________________________________________________\n",
      "lambda_23 (Lambda)           (None, 48, 48, 20)        0         \n",
      "_________________________________________________________________\n",
      "max_pooling2d_18 (MaxPooling (None, 24, 24, 20)        0         \n",
      "_________________________________________________________________\n",
      "reshape_95 (Reshape)         (None, 2, 12, 24, 20)     0         \n",
      "_________________________________________________________________\n",
      "permute_93 (Permute)         (None, 2, 24, 12, 20)     0         \n",
      "_________________________________________________________________\n",
      "reshape_96 (Reshape)         (None, 4, 12, 12, 20)     0         \n",
      "_________________________________________________________________\n",
      "permute_94 (Permute)         (None, 4, 12, 12, 20)     0         \n",
      "_________________________________________________________________\n",
      "conv3d_24 (Conv3D)           (None, 4, 12, 12, 20)     14420     \n",
      "_________________________________________________________________\n",
      "permute_95 (Permute)         (None, 12, 4, 12, 20)     0         \n",
      "_________________________________________________________________\n",
      "reshape_97 (Reshape)         (None, 12, 2, 24, 20)     0         \n",
      "_________________________________________________________________\n",
      "permute_96 (Permute)         (None, 2, 12, 24, 20)     0         \n",
      "_________________________________________________________________\n",
      "reshape_98 (Reshape)         (None, 24, 24, 20)        0         \n",
      "_________________________________________________________________\n",
      "activation_34 (Activation)   (None, 24, 24, 20)        0         \n",
      "_________________________________________________________________\n",
      "lambda_24 (Lambda)           (None, 24, 24, 20)        0         \n",
      "_________________________________________________________________\n",
      "max_pooling2d_19 (MaxPooling (None, 12, 12, 20)        0         \n",
      "_________________________________________________________________\n",
      "reshape_99 (Reshape)         (None, 3, 4, 12, 20)      0         \n",
      "_________________________________________________________________\n",
      "permute_97 (Permute)         (None, 3, 12, 4, 20)      0         \n",
      "_________________________________________________________________\n",
      "reshape_100 (Reshape)        (None, 9, 4, 4, 20)       0         \n",
      "_________________________________________________________________\n",
      "permute_98 (Permute)         (None, 9, 4, 4, 20)       0         \n",
      "_________________________________________________________________\n",
      "conv3d_25 (Conv3D)           (None, 9, 4, 4, 60)       97260     \n",
      "_________________________________________________________________\n",
      "permute_99 (Permute)         (None, 4, 9, 4, 60)       0         \n",
      "_________________________________________________________________\n",
      "reshape_101 (Reshape)        (None, 4, 3, 12, 60)      0         \n",
      "_________________________________________________________________\n",
      "permute_100 (Permute)        (None, 3, 4, 12, 60)      0         \n",
      "_________________________________________________________________\n",
      "reshape_102 (Reshape)        (None, 12, 12, 60)        0         \n",
      "_________________________________________________________________\n",
      "activation_35 (Activation)   (None, 12, 12, 60)        0         \n",
      "_________________________________________________________________\n",
      "lambda_25 (Lambda)           (None, 12, 12, 60)        0         \n",
      "_________________________________________________________________\n",
      "max_pooling2d_20 (MaxPooling (None, 6, 6, 60)          0         \n",
      "_________________________________________________________________\n",
      "reshape_103 (Reshape)        (None, 2, 3, 6, 60)       0         \n",
      "_________________________________________________________________\n",
      "permute_101 (Permute)        (None, 2, 6, 3, 60)       0         \n",
      "_________________________________________________________________\n",
      "reshape_104 (Reshape)        (None, 4, 3, 3, 60)       0         \n",
      "_________________________________________________________________\n",
      "permute_102 (Permute)        (None, 4, 3, 3, 60)       0         \n",
      "_________________________________________________________________\n",
      "conv3d_26 (Conv3D)           (None, 4, 3, 3, 80)       76880     \n",
      "_________________________________________________________________\n",
      "permute_103 (Permute)        (None, 3, 4, 3, 80)       0         \n",
      "_________________________________________________________________\n",
      "reshape_105 (Reshape)        (None, 3, 2, 6, 80)       0         \n",
      "_________________________________________________________________\n",
      "permute_104 (Permute)        (None, 2, 3, 6, 80)       0         \n",
      "_________________________________________________________________\n",
      "reshape_106 (Reshape)        (None, 6, 6, 80)          0         \n",
      "_________________________________________________________________\n",
      "activation_36 (Activation)   (None, 6, 6, 80)          0         \n",
      "_________________________________________________________________\n",
      "lambda_26 (Lambda)           (None, 6, 6, 80)          0         \n",
      "_________________________________________________________________\n",
      "flatten_6 (Flatten)          (None, 2880)              0         \n",
      "_________________________________________________________________\n",
      "dense_11 (Dense)             (None, 120)               345720    \n",
      "_________________________________________________________________\n",
      "activation_37 (Activation)   (None, 120)               0         \n",
      "_________________________________________________________________\n",
      "dense_12 (Dense)             (None, 10)                1210      \n",
      "_________________________________________________________________\n",
      "activation_38 (Activation)   (None, 10)                0         \n",
      "=================================================================\n",
      "Total params: 536,790\n",
      "Trainable params: 536,790\n",
      "Non-trainable params: 0\n",
      "_________________________________________________________________\n",
      "Epoch 1/10\n",
      "   64/10000 [..............................] - ETA: 33:44 - loss: 0.2144"
     ]
    }
   ],
   "source": [
    "if to_train == 0 or to_train == 3:\n",
    "    x = np.array(x, dtype=np.float32)\n",
    "    y = np.array(y, dtype=np.float32)\n",
    "    model = get_s0()\n",
    "    model.summary()\n",
    "    model.compile('sgd', 'mse')\n",
    "    model.fit(x, y, epochs=10)\n",
    "    model.save_weights('saved_f1.h5')"
   ]
  },
  {
   "cell_type": "code",
   "execution_count": null,
   "metadata": {
    "collapsed": true
   },
   "outputs": [],
   "source": [
    "if to_train == 1 or to_train == 3:\n",
    "    for i in range(len(x)):\n",
    "        x[i] = x[i][:40, :]\n",
    "        y[i] = y[i][:6]\n",
    "    x = np.array(x, dtype=np.float32)\n",
    "    y = np.array(y, dtype=np.float32)\n",
    "    model = get_s1()\n",
    "    model.summary()\n",
    "    model.compile('sgd', 'mse')\n",
    "    model.fit(x, y, epochs=10)\n",
    "    model.save_weights('saved_en1.h5')"
   ]
  },
  {
   "cell_type": "code",
   "execution_count": null,
   "metadata": {
    "collapsed": true
   },
   "outputs": [],
   "source": [
    "if to_train == 2 or to_train == 3:\n",
    "    for i in range(len(x)):\n",
    "        x[i] = x[i][-40:, :]\n",
    "        y[i] = y[i][-6:]\n",
    "    x = np.array(x, dtype=np.float32)\n",
    "    y = np.array(y, dtype=np.float32)\n",
    "    model = get_s1()\n",
    "    model.summary()\n",
    "    model.compile('sgd', 'mse')\n",
    "    model.fit(x, y, epochs=10)\n",
    "    model.save_weights('saved_nm1.h5')"
   ]
  }
 ],
 "metadata": {
  "kernelspec": {
   "display_name": "VTF3",
   "language": "python",
   "name": "vtf3"
  },
  "language_info": {
   "codemirror_mode": {
    "name": "ipython",
    "version": 2
   },
   "file_extension": ".py",
   "mimetype": "text/x-python",
   "name": "python",
   "nbconvert_exporter": "python",
   "pygments_lexer": "ipython2",
   "version": "2.7.12"
  }
 },
 "nbformat": 4,
 "nbformat_minor": 2
}
